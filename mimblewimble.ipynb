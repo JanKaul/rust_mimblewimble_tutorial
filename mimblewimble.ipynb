{
 "cells": [
  {
   "cell_type": "markdown",
   "metadata": {},
   "source": [
    "# Mimblewimble"
   ]
  },
  {
   "cell_type": "markdown",
   "metadata": {},
   "source": [
    "## Resources:\n",
    "\n",
    "### Software:\n",
    "- Get rust at:\n",
    "[www.rust-lang.org](https://www.rust-lang.org)\n",
    "- Get jupyter notebook directly at [jupyter.org](https://www.jupyter.org) or through anaconda distribution at [anaconda.com](https://www.anaconda.com) \n",
    "- get rust jupyter kernel at [https://github.com/google/evcxr/blob/master/evcxr_jupyter/README.md](https://github.com/google/evcxr/blob/master/evcxr_jupyter/README.md) or run the code normally\n",
    "\n",
    "### Mimblewimble\n",
    "\n",
    "- \"Official\" mimblewimble implementation [https://github.com/mimblewimble/grin/blob/master/doc/intro.md](https://github.com/mimblewimble/grin/blob/master/doc/intro.md)\n",
    "- Helpful article expleining mimblewimble [https://medium.com/@brandonarvanaghi/grin-transactions-explained-step-by-step-fdceb905a853](https://medium.com/@brandonarvanaghi/grin-transactions-explained-step-by-step-fdceb905a853)\n",
    "- Aggregate schnorr signatures [https://blockstream.com/2018/01/23/en-musig-key-aggregation-schnorr-signatures/](https://blockstream.com/2018/01/23/en-musig-key-aggregation-schnorr-signatures/)"
   ]
  },
  {
   "cell_type": "markdown",
   "metadata": {},
   "source": [
    "# Mimblewimble History\n",
    "\n",
    "In __2013__ Adam Back proposes confidential transactions in his bitcointalk post \"bitcoins with homomorphic value\" [https://bitcointalk.org/index.php?topic=305791.0](https://bitcointalk.org/index.php?topic=305791.0)\n",
    "\n",
    "In __Aug. 2016__, Someone called Tom Elvis Jedusor (Voldemort's French name in J.K. Rowling's Harry Potter book series) placed the original MimbleWimble white paper on a bitcoin research channel, and then disappeared.\n",
    "\n",
    "Tom's white paper \"Mimblewimble\" (a tongue-tying curse used in \"The Deathly Hallows\") was a blockchain proposal that could theoretically increase privacy, scalability and fungibility.\n",
    "\n",
    "In __Oct. 2016__, Andrew Poelstra, a mathematician at Blockstream, wrote a precise paper, made precise Tom's original idea, and added further scaling improvements on it.\n",
    "\n",
    "A __few days later__, Ignotus Peverell (name also came from \"Harry Potter\", the original owner of the invisibility cloak, if you know the Harry Potter characters) started a Github project called Grin, and began turning the MimbleWimble paper into something real.\n",
    "\n",
    "And in __Mar. 2017__, Ignotus Peverell posted a technical introduction to MimbleWimble and Grin on Github."
   ]
  },
  {
   "cell_type": "markdown",
   "metadata": {},
   "source": [
    "# Mimblewimble deepdive"
   ]
  },
  {
   "cell_type": "code",
   "execution_count": 2,
   "metadata": {},
   "outputs": [],
   "source": [
    ":dep curve25519-dalek = \"1.1.3\"\n",
    "rand = \"0.6.5\"\n",
    "sha2 = \"0.8.0\""
   ]
  },
  {
   "cell_type": "code",
   "execution_count": 3,
   "metadata": {},
   "outputs": [],
   "source": [
    "extern crate curve25519_dalek;\n",
    "extern crate rand;\n",
    "extern crate sha2;\n",
    "\n",
    "use curve25519_dalek::constants;\n",
    "use curve25519_dalek::ristretto::CompressedRistretto;\n",
    "use curve25519_dalek::ristretto::RistrettoPoint;\n",
    "use curve25519_dalek::scalar::Scalar;\n",
    "\n",
    "use rand::prelude::*;\n",
    "\n",
    "use sha2::{Sha256, Digest};\n",
    "\n",
    "let mut rng = rand::thread_rng();"
   ]
  },
  {
   "cell_type": "markdown",
   "metadata": {},
   "source": [
    "## Discrete logarithm problem\n",
    "\n",
    "![11hrclock](img/11hrclock.png)\n",
    "\n",
    "- given the Generator _G = 3_ and the point _P = 2_ (publlic key) it is extremely difficult (assuming large numbers) to get the multiplicator _r_ (private key) that satisfies\n",
    "\n",
    "<div align=\"center\">_P = r*G_</div>\n",
    "\n",
    "- however, knowing _r_ it is easy to compute _P_"
   ]
  },
  {
   "cell_type": "markdown",
   "metadata": {},
   "source": [
    "## Schnorr signatures\n",
    "\n",
    "- private key _r_, public key _U_ with\n",
    "\n",
    "<div align=\"center\">_U = r*G_</div>\n",
    " \n",
    "- signer generates random nonce _rt_ and computes commitment to nonce\n",
    "\n",
    "<div align=\"center\">_Ut = rt*G_</div>\n",
    "\n",
    "- using challenge _c=H(m,Ut)_ (challenge has to be unique for message _m_ and nonce _rt_) signer computes\n",
    "\n",
    "<div align=\"center\">_rz = rt + c*r_</div>\n",
    "\n",
    "- signer sends _(Ut,rz)_ to verifier\n",
    "- verifier checks\n",
    "\n",
    "<div align=\"center\">_rz\\*G = Ut + c\\*U_</div>\n",
    "\n",
    "- which can be expressed as\n",
    "\n",
    "<div align=\"center\">_rz\\*G = rt\\*G + c\\*r\\*G_</div>"
   ]
  },
  {
   "cell_type": "code",
   "execution_count": 4,
   "metadata": {},
   "outputs": [
    {
     "data": {
      "text/plain": [
       "CompressedRistretto: [8, 158, 9, 191, 193, 55, 46, 52, 105, 36, 247, 76, 240, 44, 189, 9, 235, 155, 219, 109, 132, 235, 218, 85, 130, 122, 216, 34, 47, 223, 248, 50]"
      ]
     },
     "execution_count": 4,
     "metadata": {},
     "output_type": "execute_result"
    }
   ],
   "source": [
    "//get generator for the elliptic curve points\n",
    "let G = &constants::RISTRETTO_BASEPOINT_POINT;\n",
    "\n",
    "//pick arbitrary private key\n",
    "let r = Scalar::from_bytes_mod_order([2u8;32]);\n",
    "\n",
    "//compute public key\n",
    "let U = r*G;\n",
    "\n",
    "//generate random nonce, has to be different every time\n",
    "let mut temp: [u8;32] = [0u8;32];\n",
    "temp.copy_from_slice((0..32).map(|x| rng.gen()).collect::<Vec<u8>>().as_slice());\n",
    "let rt = Scalar::from_bytes_mod_order(temp);\n",
    "\n",
    "//calculate commitment to nonce\n",
    "let Ut = rt*G;\n",
    "\n",
    "//generate challenge from hashfunction\n",
    "let mut hasher = Sha256::new();\n",
    "hasher.input(\"message\".as_bytes());\n",
    "hasher.input(Ut.compress().to_bytes());\n",
    "temp.copy_from_slice(hasher.result().as_slice());\n",
    "let c = Scalar::from_bytes_mod_order(temp);\n",
    "\n",
    "let rz = rt + c*r;\n",
    "\n",
    "//check whether signature is valid\n",
    "assert_eq!(rz*G,Ut+c*U);\n",
    "\n",
    "(rz*G).compress()"
   ]
  },
  {
   "cell_type": "markdown",
   "metadata": {},
   "source": [
    "## Simple aggregate schnorr signatures (insecure!!!)\n",
    "\n",
    "- two signers with private keys _r1,r2_ and public keys _U1,U2_ with\n",
    "\n",
    "<div align=\"center\">_U1 = r1\\*G,&nbsp; &nbsp; U2 = r2\\*G_</div>\n",
    " \n",
    "- signers generate random nonces _rt1,rt2_ and compute commitments to the nonces\n",
    "\n",
    "<div align=\"center\">_Ut1 = rt1\\*G,&nbsp; &nbsp; Ut2 = rt2\\*G_</div>\n",
    "\n",
    "- using challenge _c=H(m,Ut1+Ut2,U1+U2)_ (this is insecure!!!, see secure version [here](https://blockstream.com/2018/01/23/en-musig-key-aggregation-schnorr-signatures/)) signers compute\n",
    "\n",
    "<div align=\"center\">_rz1 = rt1 + c\\*r1,&nbsp; &nbsp; rz2 = rt2 + c\\*r2 _</div>\n",
    "\n",
    "- signers send _(Ut1,rz1),(Ut2,rz2)_ to verifier\n",
    "- verifier checks\n",
    "\n",
    "<div align=\"center\">_rz\\*G = Ut + c\\*U_</div>\n",
    "<div align=\"center\">_(rz1 + rz2)\\*G = (Ut1 + Ut2) + c\\*(U1 + U2)_</div>\n",
    "\n",
    "- aggregate signatures allow to simply add puplic keys and signatures\n",
    "\n",
    "<div align=\"center\">_U = U1 + U2_</div>\n",
    "\n",
    "<div align=\"center\">_(Ut,rz) = (Ut1 + Ut2, rz1 + rz2)_</div>"
   ]
  },
  {
   "cell_type": "code",
   "execution_count": 5,
   "metadata": {},
   "outputs": [
    {
     "data": {
      "text/plain": [
       "CompressedRistretto: [20, 191, 153, 187, 99, 75, 9, 46, 236, 179, 225, 45, 246, 248, 146, 255, 119, 138, 46, 43, 221, 63, 135, 239, 95, 134, 112, 53, 88, 132, 63, 46]"
      ]
     },
     "execution_count": 5,
     "metadata": {},
     "output_type": "execute_result"
    }
   ],
   "source": [
    "//pick arbitrary private keys\n",
    "let r1 = Scalar::from_bytes_mod_order([3u8;32]);\n",
    "let r2 = Scalar::from_bytes_mod_order([4u8;32]);\n",
    "\n",
    "//compute public key\n",
    "let U1 = r1*G;\n",
    "let U2 = r2*G;\n",
    "\n",
    "//generate random nonces, has to be different every time\n",
    "let mut temp: [u8;32] = [0u8;32];\n",
    "temp.copy_from_slice((0..32).map(|x| rng.gen()).collect::<Vec<u8>>().as_slice());\n",
    "let rt1 = Scalar::from_bytes_mod_order(temp);\n",
    "\n",
    "let mut temp: [u8;32] = [0u8;32];\n",
    "temp.copy_from_slice((0..32).map(|x| rng.gen()).collect::<Vec<u8>>().as_slice());\n",
    "let rt2 = Scalar::from_bytes_mod_order(temp);\n",
    "\n",
    "//calculate commitment to nonce\n",
    "let Ut1 = rt1*G;\n",
    "let Ut2 = rt2*G;\n",
    "\n",
    "//generate challenge from hashfunction\n",
    "let mut hasher = Sha256::new();\n",
    "hasher.input(\"message\".as_bytes());\n",
    "hasher.input((Ut1+Ut2).compress().to_bytes());\n",
    "hasher.input((U1+U2).compress().to_bytes());\n",
    "temp.copy_from_slice(hasher.result().as_slice());\n",
    "let c = Scalar::from_bytes_mod_order(temp);\n",
    "\n",
    "let rz1 = rt1 + c*r1;\n",
    "let rz2 = rt2 + c*r2;\n",
    "\n",
    "let U = U1 + U2;\n",
    "let rz = rz1 + rz2;\n",
    "let Ut = Ut1 + Ut2;\n",
    "\n",
    "//check whether signature is valid\n",
    "assert_eq!(rz*G,Ut+c*U);\n",
    "\n",
    "(rz*G).compress()"
   ]
  },
  {
   "cell_type": "markdown",
   "metadata": {},
   "source": [
    "## UTXO transactions\n",
    "\n",
    "![img](img/utxo.png)\n",
    "\n",
    "## Example transaction\n",
    "\n",
    "- Alice has 100 tokens and wants to pay Bob 60\n",
    "- with the UTXO model Alice will use her input _vi0 = 100_ to pay herself the output _vo0 = 40_ and Bob the output _vo1 = 60_\n",
    "- no transactions fees apply\n",
    "- in order to not generate money out of nothing, the inputs must equal the ouputs\n",
    "\n",
    "<div align=\"center\">_vi0 = vo0 + vo1_</div>"
   ]
  },
  {
   "cell_type": "code",
   "execution_count": 6,
   "metadata": {},
   "outputs": [
    {
     "data": {
      "text/plain": [
       "Scalar{\n",
       "\tbytes: [100, 0, 0, 0, 0, 0, 0, 0, 0, 0, 0, 0, 0, 0, 0, 0, 0, 0, 0, 0, 0, 0, 0, 0, 0, 0, 0, 0, 0, 0, 0, 0],\n",
       "}"
      ]
     },
     "execution_count": 6,
     "metadata": {},
     "output_type": "execute_result"
    }
   ],
   "source": [
    "let zeros: [u8;32] = [0u8;32];\n",
    "\n",
    "let mut vi0 = zeros.clone();\n",
    "vi0[0] = 100u8;\n",
    "let vi0 = Scalar::from_bytes_mod_order(vi0);\n",
    "\n",
    "let mut vo0 = zeros.clone();\n",
    "vo0[0] = 40u8;\n",
    "let vo0 = Scalar::from_bytes_mod_order(vo0);\n",
    "\n",
    "let mut vo1 = zeros.clone();\n",
    "vo1[0] = 60u8;\n",
    "let vo1 = Scalar::from_bytes_mod_order(vo1);\n",
    "\n",
    "//check whether input equals output\n",
    "assert_eq!(vi0,vo0+vo1);\n",
    "\n",
    "vi0"
   ]
  },
  {
   "cell_type": "markdown",
   "metadata": {},
   "source": [
    "## Hiding\n",
    "\n",
    "- in order to obscure the values of the transaction, one can multiply every term by the point _H_ on an elliptic curve, this yields\n",
    "\n",
    "<div align=\"center\">_vi0\\*H = vo0\\* H + vo1\\*H_</div>\n",
    "\n",
    "- similar to the dlog problem, for people not knowing _vi0, vo0, vo1_ it is almost impossible to obtain them now\n",
    "- however, the inputs must still equal the outputs"
   ]
  },
  {
   "cell_type": "code",
   "execution_count": 7,
   "metadata": {},
   "outputs": [
    {
     "data": {
      "text/plain": [
       "CompressedRistretto: [148, 138, 75, 242, 132, 118, 243, 252, 172, 167, 45, 58, 43, 109, 27, 219, 79, 196, 98, 124, 250, 28, 122, 169, 176, 46, 76, 113, 172, 125, 71, 121]"
      ]
     },
     "execution_count": 7,
     "metadata": {},
     "output_type": "execute_result"
    }
   ],
   "source": [
    "//get point on the curve, it is important that the relation between G and H is unknown\n",
    "let H = RistrettoPoint::random(&mut rng);\n",
    "\n",
    "assert_eq!(vi0*H,vo0*H+vo1*H);\n",
    "\n",
    "(vi0*H).compress()"
   ]
  },
  {
   "cell_type": "markdown",
   "metadata": {},
   "source": [
    "## Blinding\n",
    "\n",
    "- the problem now is that, the people that transacted with you know the value of the transactions values and it gets easy for them to deduce your following transactions (if they know you have 100, they can try every combination below 100 to see what you spend on your next output)\n",
    "- the aim is to replace every input and output by its corresponding pedersen commitment\n",
    "\n",
    "<div align=\"center\">_v\\*H -> r\\*G + v\\*H_</div>\n",
    "\n",
    "- where _r_ is called blinding factor and _G_ is another point on the curve\n",
    "- every input and ouput has its own blinding factor\n",
    "- in the context of mimblewimble _r_ can be thought of as a private key to the corresponding output and it is only known by the owner of that output"
   ]
  },
  {
   "cell_type": "markdown",
   "metadata": {},
   "source": [
    "## Main idea:\n",
    "\n",
    "- each participant uses the sum of his pedersen commitments for the outputs minus the sum of the pedersen commitments for the inputs as his public key\n",
    "\n",
    "<div align=\"center\">_U1 = (ro0\\*G + vo0\\*H) - (ri0\\*G + vi0\\*H)_</div>\n",
    "\n",
    "<div align=\"center\">_U2 = (ro1\\*G + vo1*H)_</div>\n",
    "\n",
    "- the private key for each participant is then the sum of the blinding factors of the outputs minus the inputs\n",
    "\n",
    "<div align=\"center\">_r1 = (ro0 - ri0)_</div>\n",
    "\n",
    "<div align=\"center\">_r2 = ro1_</div>"
   ]
  },
  {
   "cell_type": "markdown",
   "metadata": {},
   "source": [
    "## Validating transactions\n",
    "\n",
    "- public key for sender is sum of pedersen commitments (output - input)\n",
    "\n",
    "<div align=\"center\">_U1 = (ro0 - ri0)\\*G + (vo0 - vi0)\\*H_</div>\n",
    "\n",
    "- public key of reciever is sum of pedersen commitments (output - input)\n",
    "\n",
    "<div align=\"center\">_U2 = ro1\\*G + vo1\\*H_</div>\n",
    "\n",
    "- both generate random nonces _rt1,rt2_ and compute commitments to the nonces\n",
    "\n",
    "<div align=\"center\">_Ut1 = rt1\\*G,&nbsp; &nbsp; Ut2 = rt2\\*G_</div>\n",
    "\n",
    "- using challenge _c=H(m,Ut1+Ut2,U1+U2)_ signers compute\n",
    "\n",
    "<div align=\"center\">_rz1 = rt1 + c\\*(ro0 - ri0),&nbsp; &nbsp; rz2 = rt2 + c\\*ro1 _</div>\n",
    "\n",
    "- signers send _(Ut1,rz1),(Ut2,rz2)_ to verifier\n",
    "- verifier checks\n",
    "\n",
    "<div align=\"center\">_(rz1 + rz2)\\*G = (Ut1 + Ut2) + c\\*(U1 + U2)_</div>\n",
    "\n",
    "- which is equal to \n",
    "\n",
    "<div align=\"center\">_(rz1 + rz2)\\*G = (Ut1 + Ut2) + c\\*((ro0 - ri0)\\*G + (vo0 - vi0)\\*H + ro1\\*G + vo1\\*H)_</div>\n",
    "\n",
    "- if the following condition holds\n",
    "\n",
    "<div align=\"center\">_0 = vo0\\* H - vi0\\*H + vo1\\*H_</div>\n",
    "\n",
    "- this can be simplified to the valid aggregate schnorr signature\n",
    "\n",
    "<div align=\"center\">_(rz1 + rz2)\\*G = (rt1\\*G + rt2\\*G) + c\\*((ro0 - ri0)\\*G + ro1\\*G)_</div>\n",
    "\n",
    "- vice versa, a valid signature means that the inputs and outputs cancel out"
   ]
  },
  {
   "cell_type": "code",
   "execution_count": 8,
   "metadata": {},
   "outputs": [
    {
     "data": {
      "text/plain": [
       "CompressedRistretto: [80, 4, 253, 149, 37, 77, 34, 116, 159, 148, 142, 149, 228, 18, 226, 140, 193, 58, 114, 40, 56, 236, 154, 53, 229, 69, 85, 228, 63, 255, 154, 50]"
      ]
     },
     "execution_count": 8,
     "metadata": {},
     "output_type": "execute_result"
    }
   ],
   "source": [
    "//initialize the blinding factors\n",
    "\n",
    "let mut ri0 = zeros.clone();\n",
    "ri0[0] = 10u8;\n",
    "let ri0 = Scalar::from_bytes_mod_order(ri0);\n",
    "\n",
    "let mut ro0 = zeros.clone();\n",
    "ro0[0] = 20u8;\n",
    "let ro0 = Scalar::from_bytes_mod_order(ro0);\n",
    "\n",
    "let mut ro1 = zeros.clone();\n",
    "ro1[0] = 30u8;\n",
    "let ro1 = Scalar::from_bytes_mod_order(ro1);\n",
    "\n",
    "//compute public key\n",
    "let U1 = (ro0 - ri0)*G + (vo0 - vi0)*H;\n",
    "let U2 = ro1*G + vo1*H;\n",
    "\n",
    "//generate random nonces, has to be different every time\n",
    "let mut temp: [u8;32] = [0u8;32];\n",
    "temp.copy_from_slice((0..32).map(|x| rng.gen()).collect::<Vec<u8>>().as_slice());\n",
    "let rt1 = Scalar::from_bytes_mod_order(temp);\n",
    "\n",
    "let mut temp: [u8;32] = [0u8;32];\n",
    "temp.copy_from_slice((0..32).map(|x| rng.gen()).collect::<Vec<u8>>().as_slice());\n",
    "let rt2 = Scalar::from_bytes_mod_order(temp);\n",
    "\n",
    "//calculate commitment to nonce\n",
    "let Ut1 = rt1*G;\n",
    "let Ut2 = rt2*G;\n",
    "\n",
    "//generate challenge from hashfunction\n",
    "let mut hasher = Sha256::new();\n",
    "hasher.input(\"message\".as_bytes());\n",
    "hasher.input((Ut1+Ut2).compress().to_bytes());\n",
    "hasher.input((U1+U2).compress().to_bytes());\n",
    "temp.copy_from_slice(hasher.result().as_slice());\n",
    "let c = Scalar::from_bytes_mod_order(temp);\n",
    "\n",
    "let rz1 = rt1 + c*(ro0 - ri0);\n",
    "let rz2 = rt2 + c*ro1;\n",
    "\n",
    "let U = U1 + U2;\n",
    "let rz = rz1 + rz2;\n",
    "let Ut = Ut1 + Ut2;\n",
    "\n",
    "//check whether signature is valid\n",
    "assert_eq!(rz*G,Ut+c*U);\n",
    "\n",
    "(rz*G).compress()"
   ]
  },
  {
   "cell_type": "code",
   "execution_count": null,
   "metadata": {},
   "outputs": [],
   "source": []
  }
 ],
 "metadata": {
  "kernelspec": {
   "display_name": "Rust",
   "language": "rust",
   "name": "rust"
  },
  "language_info": {
   "codemirror_mode": "rust",
   "file_extension": ".rs",
   "mimetype": "text/rust",
   "name": "Rust",
   "pygment_lexer": "rust",
   "version": ""
  }
 },
 "nbformat": 4,
 "nbformat_minor": 2
}
