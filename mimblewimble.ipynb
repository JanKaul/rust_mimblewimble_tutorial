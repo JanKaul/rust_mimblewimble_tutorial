{
 "cells": [
  {
   "cell_type": "markdown",
   "metadata": {},
   "source": [
    "# Mimblewimble"
   ]
  },
  {
   "cell_type": "code",
   "execution_count": 2,
   "metadata": {},
   "outputs": [],
   "source": [
    ":dep curve25519-dalek = \"1.1.3\"\n",
    "rand = \"0.6.5\"\n",
    "sha2 = \"0.8.0\""
   ]
  },
  {
   "cell_type": "code",
   "execution_count": 3,
   "metadata": {},
   "outputs": [],
   "source": [
    "extern crate curve25519_dalek;\n",
    "extern crate rand;\n",
    "extern crate sha2;\n",
    "\n",
    "use curve25519_dalek::constants;\n",
    "use curve25519_dalek::ristretto::CompressedRistretto;\n",
    "use curve25519_dalek::ristretto::RistrettoPoint;\n",
    "use curve25519_dalek::scalar::Scalar;\n",
    "\n",
    "use rand::prelude::*;\n",
    "\n",
    "use sha2::{Sha256, Digest};\n",
    "\n",
    "let mut rng = rand::thread_rng();"
   ]
  },
  {
   "cell_type": "markdown",
   "metadata": {},
   "source": [
    "## Discrete logarithm problem\n",
    "\n",
    "![11hrclock](img/11hrclock.png)\n",
    "\n",
    "- given the Generator $G = 3$ and the point $P = 2$ it is extremely difficult (assuming large numbers) to get the multiplicator $r$ that satisfies\n",
    "\n",
    "$$ P = r G$$\n",
    "- however, knowing $r$ it is easy to compute $P$"
   ]
  },
  {
   "cell_type": "markdown",
   "metadata": {},
   "source": [
    "## Schnorr signatures\n",
    "\n",
    "- private key $r$, public key $U$ with\n",
    "\n",
    "$$ U = rG$$\n",
    "- signer generates nonce $r_t$ and computes commitment to nonce\n",
    "\n",
    "$$ U_t = r_t G$$\n",
    "- using challenge $c=H(m,U_t)$ signer computes\n",
    "\n",
    "$$ r_z = r_t + c r$$\n",
    "- signer sends $(U_t,r_z)$ to verifier\n",
    "- verifier checks\n",
    "\n",
    "$$ r_z G = U_t + cU$$"
   ]
  },
  {
   "cell_type": "code",
   "execution_count": 40,
   "metadata": {},
   "outputs": [
    {
     "data": {
      "text/plain": [
       "CompressedRistretto: [154, 148, 183, 221, 194, 76, 149, 120, 47, 75, 175, 107, 10, 50, 71, 59, 180, 157, 11, 218, 188, 58, 218, 25, 122, 242, 152, 70, 74, 122, 105, 99]"
      ]
     },
     "execution_count": 40,
     "metadata": {},
     "output_type": "execute_result"
    }
   ],
   "source": [
    "//get generator for the elliptic curve points\n",
    "let G = &constants::RISTRETTO_BASEPOINT_POINT;\n",
    "\n",
    "//pick arbitrary private key\n",
    "let r = Scalar::from_bytes_mod_order([2u8;32]);\n",
    "\n",
    "//compute public key\n",
    "let U = r*G;\n",
    "\n",
    "//generate random nonce, has to be different every time\n",
    "let mut temp: [u8;32] = [0u8;32];\n",
    "temp.copy_from_slice((0..32).map(|x| rng.gen()).collect::<Vec<u8>>().as_slice());\n",
    "let rt = Scalar::from_bytes_mod_order(temp);\n",
    "\n",
    "//calculate commitment to nonce\n",
    "let Ut = rt*G;\n",
    "\n",
    "//generate challenge from hashfunction\n",
    "let mut hasher = Sha256::new();\n",
    "hasher.input(\"message\".as_bytes());\n",
    "hasher.input(Ut.compress().to_bytes());\n",
    "temp.copy_from_slice(hasher.result().as_slice());\n",
    "let c = Scalar::from_bytes_mod_order(temp);\n",
    "\n",
    "let rz = rt + c*r;\n",
    "\n",
    "//check whether signature is valid\n",
    "assert_eq!(rz*G,Ut+c*U);\n",
    "\n",
    "(rz*G).compress()"
   ]
  },
  {
   "cell_type": "markdown",
   "metadata": {},
   "source": [
    "## UTXO transactions\n",
    "\n",
    "![img](img/utxo.png)\n",
    "\n",
    "## Example transaction\n",
    "\n",
    "- lets look at a transaction with one input $v_{i1}$ and two outputs $v_{o1},v_{o2}$\n",
    "- in order to not generate money out of nothing, the inputs must equal the ouputs\n",
    "\n",
    "$$ v_{i1} = v_{o1} + v_{o2}$$\n",
    "- lets consider for example the input $v_{i1} = 40$ and the outputs $v_{o1} = 25, v_{o2}=15$"
   ]
  },
  {
   "cell_type": "code",
   "execution_count": 42,
   "metadata": {},
   "outputs": [
    {
     "data": {
      "text/plain": [
       "Scalar{\n",
       "\tbytes: [40, 0, 0, 0, 0, 0, 0, 0, 0, 0, 0, 0, 0, 0, 0, 0, 0, 0, 0, 0, 0, 0, 0, 0, 0, 0, 0, 0, 0, 0, 0, 0],\n",
       "}"
      ]
     },
     "execution_count": 42,
     "metadata": {},
     "output_type": "execute_result"
    }
   ],
   "source": [
    "let zeros: [u8;32] = [0u8;32];\n",
    "\n",
    "let mut vi1 = zeros.clone();\n",
    "vi1[0] = 40u8;\n",
    "let vi1 = Scalar::from_bytes_mod_order(vi1);\n",
    "\n",
    "let mut vo1 = zeros.clone();\n",
    "vo1[0] = 25u8;\n",
    "let vo1 = Scalar::from_bytes_mod_order(vo1);\n",
    "\n",
    "let mut vo2 = zeros.clone();\n",
    "vo2[0] = 15u8;\n",
    "let vo2 = Scalar::from_bytes_mod_order(vo2);\n",
    "\n",
    "//check whether input equals output\n",
    "assert_eq!(vi1,vo1+vo2);\n",
    "\n",
    "vi1"
   ]
  },
  {
   "cell_type": "markdown",
   "metadata": {},
   "source": [
    "## Hiding\n",
    "\n",
    "- in order to obscure the values of the transaction, one can multiply every term by the point $H$ on an elliptic curve, this yields\n",
    "\n",
    "$$ v_{i1} H = v_{o1} H + v_{o2} H$$\n",
    "- similar to the dlog problem, for people not knowing $v_{i1}, v_{o1}, v_{o2}$ it is almost impossible to obtain them now\n",
    "- however, the inputs must still equal the outputs"
   ]
  },
  {
   "cell_type": "code",
   "execution_count": 60,
   "metadata": {},
   "outputs": [
    {
     "data": {
      "text/plain": [
       "CompressedRistretto: [122, 187, 191, 22, 46, 11, 11, 181, 127, 84, 183, 76, 93, 147, 255, 220, 55, 29, 175, 37, 13, 35, 254, 139, 168, 168, 160, 80, 210, 246, 51, 106]"
      ]
     },
     "execution_count": 60,
     "metadata": {},
     "output_type": "execute_result"
    }
   ],
   "source": [
    "//get point on the curve, it is important that the relation between G and H is unknown\n",
    "let H = RistrettoPoint::random(&mut rng);\n",
    "\n",
    "assert_eq!(vi1*H,vo1*H+vo2*H);\n",
    "\n",
    "(vi1*H).compress()"
   ]
  },
  {
   "cell_type": "markdown",
   "metadata": {},
   "source": [
    "## Blinding\n",
    "\n",
    "- the problem now is that, the people that transacted with you know the value of the transactions values and it gets easy for them to deduce your following transactions\n",
    "- thats why every input or output gets replaced by its corresponding pedersen commitment\n",
    "\n",
    "$$ rG + vH$$\n",
    "- where $r$ is called blinding factor and $G$ is another point on the curve\n",
    "- in the context of mimblewimble $r$ can be thought of as a private key to the corresponding output and is only known by the owner of that output"
   ]
  },
  {
   "cell_type": "code",
   "execution_count": null,
   "metadata": {},
   "outputs": [],
   "source": [
    "//initialize the blinding factors\n",
    "\n",
    "let mut ri1 = zeros.clone();\n",
    "ri1[0] = 20u8;\n",
    "let ri1 = Scalar::from_bytes_mod_order(ri1);\n",
    "\n",
    "let mut ro1 = zeros.clone();\n",
    "ro1[0] = 34u8;\n",
    "let ro1 = Scalar::from_bytes_mod_order(ro1);\n",
    "\n",
    "let mut ro2 = zeros.clone();\n",
    "ro2[0] = 11u8;\n",
    "let ro2 = Scalar::from_bytes_mod_order(ro2);\n",
    "\n",
    "//calculate the commitments\n",
    "\n"
   ]
  },
  {
   "cell_type": "code",
   "execution_count": null,
   "metadata": {},
   "outputs": [],
   "source": []
  }
 ],
 "metadata": {
  "kernelspec": {
   "display_name": "Rust",
   "language": "rust",
   "name": "rust"
  },
  "language_info": {
   "codemirror_mode": "rust",
   "file_extension": ".rs",
   "mimetype": "text/rust",
   "name": "Rust",
   "pygment_lexer": "rust",
   "version": ""
  }
 },
 "nbformat": 4,
 "nbformat_minor": 2
}
