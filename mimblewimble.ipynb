{
 "cells": [
  {
   "cell_type": "markdown",
   "metadata": {},
   "source": [
    "# Mimblewimble"
   ]
  },
  {
   "cell_type": "markdown",
   "metadata": {},
   "source": [
    "## Resources:\n",
    "\n",
    "### Software:\n",
    "- Get rust at:\n",
    "[www.rust-lang.org](https://www.rust-lang.org)\n",
    "- Get jupyter notebook directly at [jupyter.org](https://www.jupyter.org) or through anaconda distribution at [anaconda.com](https://www.anaconda.com) \n",
    "- get rust jupyter kernel at [https://github.com/google/evcxr/blob/master/evcxr_jupyter/README.md](https://github.com/google/evcxr/blob/master/evcxr_jupyter/README.md) or run the code normally\n",
    "\n",
    "### Mimblewimble\n",
    "\n",
    "- \"Official\" mimblewimble implementation [https://github.com/mimblewimble/grin/blob/master/doc/intro.md](https://github.com/mimblewimble/grin/blob/master/doc/intro.md)\n",
    "- Helpful article expleining mimblewimble [https://medium.com/@brandonarvanaghi/grin-transactions-explained-step-by-step-fdceb905a853](https://medium.com/@brandonarvanaghi/grin-transactions-explained-step-by-step-fdceb905a853)\n",
    "- Aggregate schnorr signatures [https://blockstream.com/2018/01/23/en-musig-key-aggregation-schnorr-signatures/](https://blockstream.com/2018/01/23/en-musig-key-aggregation-schnorr-signatures/)"
   ]
  },
  {
   "cell_type": "markdown",
   "metadata": {},
   "source": [
    "# Mimblewimble History\n",
    "\n",
    "In __2013__ Adam Back proposes confidential transactions in his bitcointalk post \"bitcoins with homomorphic value\" [https://bitcointalk.org/index.php?topic=305791.0](https://bitcointalk.org/index.php?topic=305791.0)\n",
    "\n",
    "In __Aug. 2016__, Someone called Tom Elvis Jedusor (Voldemort's French name in J.K. Rowling's Harry Potter book series) placed the original MimbleWimble white paper on a bitcoin research channel, and then disappeared.\n",
    "\n",
    "Tom's white paper \"Mimblewimble\" (a tongue-tying curse used in \"The Deathly Hallows\") was a blockchain proposal that could theoretically increase privacy, scalability and fungibility.\n",
    "\n",
    "In __Oct. 2016__, Andrew Poelstra, a mathematician at Blockstream, wrote a precise paper, made precise Tom's original idea, and added further scaling improvements on it.\n",
    "\n",
    "A __few days later__, Ignotus Peverell (name also came from \"Harry Potter\", the original owner of the invisibility cloak, if you know the Harry Potter characters) started a Github project called Grin, and began turning the MimbleWimble paper into something real.\n",
    "\n",
    "And in __Mar. 2017__, Ignotus Peverell posted a technical introduction to MimbleWimble and Grin on Github."
   ]
  },
  {
   "cell_type": "markdown",
   "metadata": {},
   "source": [
    "# Mimblewimble deepdive"
   ]
  },
  {
   "cell_type": "code",
   "execution_count": 2,
   "metadata": {},
   "outputs": [],
   "source": [
    ":dep curve25519-dalek = \"1.1.3\"\n",
    "rand = \"0.6.5\"\n",
    "sha2 = \"0.8.0\""
   ]
  },
  {
   "cell_type": "code",
   "execution_count": 3,
   "metadata": {},
   "outputs": [],
   "source": [
    "extern crate curve25519_dalek;\n",
    "extern crate rand;\n",
    "extern crate sha2;\n",
    "\n",
    "use curve25519_dalek::constants;\n",
    "use curve25519_dalek::ristretto::CompressedRistretto;\n",
    "use curve25519_dalek::ristretto::RistrettoPoint;\n",
    "use curve25519_dalek::scalar::Scalar;\n",
    "\n",
    "use rand::prelude::*;\n",
    "\n",
    "use sha2::{Sha256, Digest};\n",
    "\n",
    "let mut rng = rand::thread_rng();"
   ]
  },
  {
   "cell_type": "markdown",
   "metadata": {},
   "source": [
    "## Discrete logarithm problem\n",
    "\n",
    "![11hrclock](img/11hrclock.png)\n",
    "\n",
    "- given the Generator _G = 3_ and the point _P = 2_ (publlic key) it is extremely difficult (assuming large numbers) to get the multiplicator _r_ (private key) that satisfies\n",
    "\n",
    "<center>_P = r*G_</center>\n",
    "\n",
    "- however, knowing _r_ it is easy to compute _P_"
   ]
  },
  {
   "cell_type": "markdown",
   "metadata": {},
   "source": [
    "## Schnorr signatures\n",
    "\n",
    "- private key _r_, public key _U_ with\n",
    "\n",
    "<center>_U = r*G_</center>\n",
    " \n",
    "- signer generates random nonce _rt_ and computes commitment to nonce\n",
    "\n",
    "<center>_Ut = rt*G_</center>\n",
    "\n",
    "- using challenge _c=H(m,Ut)_ (challenge has to be unique for message _m_ and nonce _rt_) signer computes\n",
    "\n",
    "<center>_rz = rt + c*r_</center>\n",
    "\n",
    "- signer sends _(Ut,rz)_ to verifier\n",
    "- verifier checks\n",
    "\n",
    "<center>_rz\\*G = Ut + c\\*U_</center>\n",
    "\n",
    "- which can be expressed as\n",
    "\n",
    "<center>_rz\\*G = rt\\*G + c\\*r\\*G_</center>"
   ]
  },
  {
   "cell_type": "code",
   "execution_count": 4,
   "metadata": {},
   "outputs": [
    {
     "data": {
      "text/plain": [
       "CompressedRistretto: [74, 248, 70, 116, 99, 183, 248, 239, 203, 127, 114, 180, 81, 221, 31, 95, 234, 43, 77, 56, 38, 200, 118, 110, 227, 105, 49, 227, 23, 151, 97, 92]"
      ]
     },
     "execution_count": 4,
     "metadata": {},
     "output_type": "execute_result"
    }
   ],
   "source": [
    "//get generator for the elliptic curve points\n",
    "let G = &constants::RISTRETTO_BASEPOINT_POINT;\n",
    "\n",
    "//pick arbitrary private key\n",
    "let r = Scalar::from_bytes_mod_order([2u8;32]);\n",
    "\n",
    "//compute public key\n",
    "let U = r*G;\n",
    "\n",
    "//generate random nonce, has to be different every time\n",
    "let mut temp: [u8;32] = [0u8;32];\n",
    "temp.copy_from_slice((0..32).map(|x| rng.gen()).collect::<Vec<u8>>().as_slice());\n",
    "let rt = Scalar::from_bytes_mod_order(temp);\n",
    "\n",
    "//calculate commitment to nonce\n",
    "let Ut = rt*G;\n",
    "\n",
    "//generate challenge from hashfunction\n",
    "let mut hasher = Sha256::new();\n",
    "hasher.input(\"message\".as_bytes());\n",
    "hasher.input(Ut.compress().to_bytes());\n",
    "temp.copy_from_slice(hasher.result().as_slice());\n",
    "let c = Scalar::from_bytes_mod_order(temp);\n",
    "\n",
    "let rz = rt + c*r;\n",
    "\n",
    "//check whether signature is valid\n",
    "assert_eq!(rz*G,Ut+c*U);\n",
    "\n",
    "(rz*G).compress()"
   ]
  },
  {
   "cell_type": "markdown",
   "metadata": {},
   "source": [
    "## Simple aggregate schnorr signatures (insecure!!!)\n",
    "\n",
    "- two signers with private keys _r1,r2_ and public keys _U1,U2_ with\n",
    "\n",
    "<center>_U1 = r1\\*G,&nbsp; &nbsp; U2 = r2\\*G_</center>\n",
    " \n",
    "- signers generate random nonces _rt1,rt2_ and compute commitments to the nonces\n",
    "\n",
    "<center>_Ut1 = rt1\\*G,&nbsp; &nbsp; Ut2 = rt2\\*G_</center>\n",
    "\n",
    "- using challenge _c=H(m,Ut1+Ut2,U1+U2)_ (this is insecure!!!, see secure version [here](https://blockstream.com/2018/01/23/en-musig-key-aggregation-schnorr-signatures/)) signers compute\n",
    "\n",
    "<center>_rz1 = rt1 + c\\*r1,&nbsp; &nbsp; rz2 = rt2 + c\\*r2 _</center>\n",
    "\n",
    "- signers send _(Ut1,rz1),(Ut2,rz2)_ to verifier\n",
    "- verifier checks\n",
    "\n",
    "<center>_rz\\*G = Ut + c\\*U_</center>\n",
    "<center>_(rz1 + rz2)\\*G = (Ut1 + Ut2) + c\\*(U1 + U2)_</center>\n",
    "\n",
    "- aggregate signatures allow to simply add puplic keys and signatures\n",
    "\n",
    "<center>_U = U1 + U2_</center>\n",
    "\n",
    "<center>(Ut,rz) = (Ut1 + Ut2, rz1 + rz2)</center>"
   ]
  },
  {
   "cell_type": "code",
   "execution_count": 5,
   "metadata": {},
   "outputs": [
    {
     "data": {
      "text/plain": [
       "CompressedRistretto: [130, 11, 96, 28, 130, 188, 247, 61, 151, 81, 79, 205, 26, 74, 203, 200, 102, 226, 255, 201, 108, 9, 181, 37, 71, 17, 114, 248, 148, 255, 163, 12]"
      ]
     },
     "execution_count": 5,
     "metadata": {},
     "output_type": "execute_result"
    }
   ],
   "source": [
    "//pick arbitrary private keys\n",
    "let r1 = Scalar::from_bytes_mod_order([3u8;32]);\n",
    "let r2 = Scalar::from_bytes_mod_order([4u8;32]);\n",
    "\n",
    "//compute public key\n",
    "let U1 = r1*G;\n",
    "let U2 = r2*G;\n",
    "\n",
    "//generate random nonces, has to be different every time\n",
    "let mut temp: [u8;32] = [0u8;32];\n",
    "temp.copy_from_slice((0..32).map(|x| rng.gen()).collect::<Vec<u8>>().as_slice());\n",
    "let rt1 = Scalar::from_bytes_mod_order(temp);\n",
    "\n",
    "let mut temp: [u8;32] = [0u8;32];\n",
    "temp.copy_from_slice((0..32).map(|x| rng.gen()).collect::<Vec<u8>>().as_slice());\n",
    "let rt2 = Scalar::from_bytes_mod_order(temp);\n",
    "\n",
    "//calculate commitment to nonce\n",
    "let Ut1 = rt1*G;\n",
    "let Ut2 = rt2*G;\n",
    "\n",
    "//generate challenge from hashfunction\n",
    "let mut hasher = Sha256::new();\n",
    "hasher.input(\"message\".as_bytes());\n",
    "hasher.input((Ut1+Ut2).compress().to_bytes());\n",
    "hasher.input((U1+U2).compress().to_bytes());\n",
    "temp.copy_from_slice(hasher.result().as_slice());\n",
    "let c = Scalar::from_bytes_mod_order(temp);\n",
    "\n",
    "let rz1 = rt1 + c*r1;\n",
    "let rz2 = rt2 + c*r2;\n",
    "\n",
    "let U = U1 + U2;\n",
    "let rz = rz1 + rz2;\n",
    "let Ut = Ut1 + Ut2;\n",
    "\n",
    "//check whether signature is valid\n",
    "assert_eq!(rz*G,Ut+c*U);\n",
    "\n",
    "(rz*G).compress()"
   ]
  },
  {
   "cell_type": "markdown",
   "metadata": {},
   "source": [
    "## UTXO transactions\n",
    "\n",
    "![img](img/utxo.png)\n",
    "\n",
    "## Example transaction\n",
    "\n",
    "- Alice has 100 tokens and wants to pay Bob 60\n",
    "- with the UTXO model Alice will use her input _vi0 = 100_ to pay herself the output _vo0 = 40_ and Bob the output _vo1 = 60_\n",
    "- no transactions fees apply\n",
    "- in order to not generate money out of nothing, the inputs must equal the ouputs\n",
    "\n",
    "<center>_vi0 = vo0 + vo1_</center>"
   ]
  },
  {
   "cell_type": "code",
   "execution_count": 6,
   "metadata": {},
   "outputs": [
    {
     "data": {
      "text/plain": [
       "Scalar{\n",
       "\tbytes: [100, 0, 0, 0, 0, 0, 0, 0, 0, 0, 0, 0, 0, 0, 0, 0, 0, 0, 0, 0, 0, 0, 0, 0, 0, 0, 0, 0, 0, 0, 0, 0],\n",
       "}"
      ]
     },
     "execution_count": 6,
     "metadata": {},
     "output_type": "execute_result"
    }
   ],
   "source": [
    "let zeros: [u8;32] = [0u8;32];\n",
    "\n",
    "let mut vi0 = zeros.clone();\n",
    "vi0[0] = 100u8;\n",
    "let vi0 = Scalar::from_bytes_mod_order(vi0);\n",
    "\n",
    "let mut vo0 = zeros.clone();\n",
    "vo0[0] = 40u8;\n",
    "let vo0 = Scalar::from_bytes_mod_order(vo0);\n",
    "\n",
    "let mut vo1 = zeros.clone();\n",
    "vo1[0] = 60u8;\n",
    "let vo1 = Scalar::from_bytes_mod_order(vo1);\n",
    "\n",
    "//check whether input equals output\n",
    "assert_eq!(vi0,vo0+vo1);\n",
    "\n",
    "vi0"
   ]
  },
  {
   "cell_type": "markdown",
   "metadata": {},
   "source": [
    "## Hiding\n",
    "\n",
    "- in order to obscure the values of the transaction, one can multiply every term by the point _H_ on an elliptic curve, this yields\n",
    "\n",
    "<center>_vi0\\*H = vo0\\* H + vo1\\*H_</center>\n",
    "\n",
    "- similar to the dlog problem, for people not knowing _vi0, vo0, vo1_ it is almost impossible to obtain them now\n",
    "- however, the inputs must still equal the outputs"
   ]
  },
  {
   "cell_type": "code",
   "execution_count": 7,
   "metadata": {},
   "outputs": [
    {
     "data": {
      "text/plain": [
       "CompressedRistretto: [50, 88, 127, 50, 109, 67, 249, 30, 176, 133, 122, 236, 180, 49, 134, 117, 154, 66, 236, 129, 225, 132, 228, 230, 147, 111, 130, 241, 54, 128, 204, 55]"
      ]
     },
     "execution_count": 7,
     "metadata": {},
     "output_type": "execute_result"
    }
   ],
   "source": [
    "//get point on the curve, it is important that the relation between G and H is unknown\n",
    "let H = RistrettoPoint::random(&mut rng);\n",
    "\n",
    "assert_eq!(vi0*H,vo0*H+vo1*H);\n",
    "\n",
    "(vi0*H).compress()"
   ]
  },
  {
   "cell_type": "markdown",
   "metadata": {},
   "source": [
    "## Blinding\n",
    "\n",
    "- the problem now is that, the people that transacted with you know the value of the transactions values and it gets easy for them to deduce your following transactions (if they know you have 100, they can try every combination below 100 to see what you spend on your next output)\n",
    "- the aim is to replace every input and output by its corresponding pedersen commitment\n",
    "\n",
    "<center>_v\\*H -> r\\*G + v\\*H_</center>\n",
    "\n",
    "- where _r_ is called blinding factor and _G_ is another point on the curve\n",
    "- every input and ouput has its own blinding factor\n",
    "- in the context of mimblewimble _r_ can be thought of as a private key to the corresponding output and it is only known by the owner of that output"
   ]
  },
  {
   "cell_type": "markdown",
   "metadata": {},
   "source": [
    "## Main idea:\n",
    "\n",
    "- each participant uses the sum of his pedersen commitments for the outputs minus the sum of the pedersen commitments for the inputs as his public key\n",
    "\n",
    "<center>_U1 = (ro0\\*G + vo0\\*H) - (ri0\\*G + vi0\\*H)_</center>\n",
    "\n",
    "<center>_U2 = (ro1\\*G + vo1*H)_</center>\n",
    "\n",
    "- the private key for each participant is then the sum of the blinding factors of the outputs minus the inputs\n",
    "\n",
    "<center>_r1 = (ro0 - ri0)_</center>\n",
    "\n",
    "<center>_r2 = ro1_</center>"
   ]
  },
  {
   "cell_type": "markdown",
   "metadata": {},
   "source": [
    "## Validating transactions\n",
    "\n",
    "- public key for sender is sum of pedersen commitments\n",
    "\n",
    "<center>_U1 = (ro0 - ri0)\\*G + (vo0 - vi0)\\*H_</center>\n",
    "\n",
    "- public key of reciever is sum of pedersen commitments\n",
    "\n",
    "<center>_U2 = ro1\\*G + vo1\\*H_</center>\n",
    "\n",
    "- both generate random nonces _rt1,rt2_ and compute commitments to the nonces\n",
    "\n",
    "<center>_Ut1 = rt1\\*G,&nbsp; &nbsp; Ut2 = rt2\\*G_</center>\n",
    "\n",
    "- using challenge _c=H(m,Ut1+Ut2,U1+U2)_ signers compute\n",
    "\n",
    "<center>_rz1 = rt1 + c\\*(ro0 - ri0),&nbsp; &nbsp; rz2 = rt2 + c\\*ro1 _</center>\n",
    "\n",
    "- signers send _(Ut1,rz1),(Ut2,rz2)_ to verifier\n",
    "- verifier checks\n",
    "\n",
    "<center>_(rz1 + rz2)\\*G = (Ut1 + Ut2) + c\\*(U1 + U2)_</center>\n",
    "\n",
    "- which is equal to \n",
    "\n",
    "<center>_(rz1 + rz2)\\*G = (Ut1 + Ut2) + c\\*((ro0 - ri0)\\*G + (vo0 - vi0)\\*H + ro1\\*G + vo1\\*H)_</center>\n",
    "\n",
    "- if the following condition holds\n",
    "\n",
    "<center>_0 = vo0\\* H - vi0\\*H + vo1\\*H_</center>\n",
    "\n",
    "- this can be simplified to the valid aggregate signature\n",
    "\n",
    "<center>_(rz1 + rz2)\\*G = (Ut1 + Ut2) + c\\*((ro0 - ri0)\\*G + ro1\\*G)_</center>\n",
    "\n",
    "- vice versa, a valid signature means that the inputs and outputs cancel out"
   ]
  },
  {
   "cell_type": "code",
   "execution_count": 8,
   "metadata": {},
   "outputs": [
    {
     "data": {
      "text/plain": [
       "CompressedRistretto: [100, 57, 107, 81, 46, 127, 181, 138, 238, 40, 112, 29, 243, 223, 13, 101, 51, 14, 241, 49, 170, 75, 171, 129, 109, 229, 244, 182, 252, 146, 64, 24]"
      ]
     },
     "execution_count": 8,
     "metadata": {},
     "output_type": "execute_result"
    }
   ],
   "source": [
    "//initialize the blinding factors\n",
    "\n",
    "let mut ri0 = zeros.clone();\n",
    "ri0[0] = 10u8;\n",
    "let ri0 = Scalar::from_bytes_mod_order(ri0);\n",
    "\n",
    "let mut ro0 = zeros.clone();\n",
    "ro0[0] = 20u8;\n",
    "let ro0 = Scalar::from_bytes_mod_order(ro0);\n",
    "\n",
    "let mut ro1 = zeros.clone();\n",
    "ro1[0] = 30u8;\n",
    "let ro1 = Scalar::from_bytes_mod_order(ro1);\n",
    "\n",
    "//compute public key\n",
    "let U1 = (ro0 - ri0)*G + (vo0 - vi0)*H;\n",
    "let U2 = ro1*G + vo1*H;\n",
    "\n",
    "//generate random nonces, has to be different every time\n",
    "let mut temp: [u8;32] = [0u8;32];\n",
    "temp.copy_from_slice((0..32).map(|x| rng.gen()).collect::<Vec<u8>>().as_slice());\n",
    "let rt1 = Scalar::from_bytes_mod_order(temp);\n",
    "\n",
    "let mut temp: [u8;32] = [0u8;32];\n",
    "temp.copy_from_slice((0..32).map(|x| rng.gen()).collect::<Vec<u8>>().as_slice());\n",
    "let rt2 = Scalar::from_bytes_mod_order(temp);\n",
    "\n",
    "//calculate commitment to nonce\n",
    "let Ut1 = rt1*G;\n",
    "let Ut2 = rt2*G;\n",
    "\n",
    "//generate challenge from hashfunction\n",
    "let mut hasher = Sha256::new();\n",
    "hasher.input(\"message\".as_bytes());\n",
    "hasher.input((Ut1+Ut2).compress().to_bytes());\n",
    "hasher.input((U1+U2).compress().to_bytes());\n",
    "temp.copy_from_slice(hasher.result().as_slice());\n",
    "let c = Scalar::from_bytes_mod_order(temp);\n",
    "\n",
    "let rz1 = rt1 + c*(ro0 - ri0);\n",
    "let rz2 = rt2 + c*ro1;\n",
    "\n",
    "let U = U1 + U2;\n",
    "let rz = rz1 + rz2;\n",
    "let Ut = Ut1 + Ut2;\n",
    "\n",
    "//check whether signature is valid\n",
    "assert_eq!(rz*G,Ut+c*U);\n",
    "\n",
    "(rz*G).compress()"
   ]
  },
  {
   "cell_type": "code",
   "execution_count": null,
   "metadata": {},
   "outputs": [],
   "source": []
  }
 ],
 "metadata": {
  "kernelspec": {
   "display_name": "Rust",
   "language": "rust",
   "name": "rust"
  },
  "language_info": {
   "codemirror_mode": "rust",
   "file_extension": ".rs",
   "mimetype": "text/rust",
   "name": "Rust",
   "pygment_lexer": "rust",
   "version": ""
  }
 },
 "nbformat": 4,
 "nbformat_minor": 2
}
